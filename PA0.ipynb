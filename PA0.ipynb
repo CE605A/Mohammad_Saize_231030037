{
  "nbformat": 4,
  "nbformat_minor": 0,
  "metadata": {
    "colab": {
      "provenance": []
    },
    "kernelspec": {
      "name": "python3",
      "display_name": "Python 3"
    },
    "language_info": {
      "name": "python"
    }
  },
  "cells": [
    {
      "cell_type": "code",
      "execution_count": null,
      "metadata": {
        "id": "BAtvy1dnDnJk"
      },
      "outputs": [],
      "source": [
        "##NAME : Mohammad"
      ]
    },
    {
      "cell_type": "code",
      "source": [
        "a = 5\n",
        "b = 6\n",
        "c = a+b"
      ],
      "metadata": {
        "id": "hjuUJANKEaTv"
      },
      "execution_count": 1,
      "outputs": []
    },
    {
      "cell_type": "markdown",
      "source": [],
      "metadata": {
        "id": "xnTN1FQdDru1"
      }
    }
  ]
}